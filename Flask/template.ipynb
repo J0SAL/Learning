{
  "nbformat": 4,
  "nbformat_minor": 0,
  "metadata": {
    "colab": {
      "name": "Flask.ipynb",
      "provenance": [],
      "authorship_tag": "ABX9TyOZfOXMDCMWD8lglOD4SX8Y",
      "include_colab_link": true
    },
    "kernelspec": {
      "name": "python3",
      "display_name": "Python 3"
    },
    "language_info": {
      "name": "python"
    }
  },
  "cells": [
    {
      "cell_type": "markdown",
      "metadata": {
        "id": "view-in-github",
        "colab_type": "text"
      },
      "source": [
        "<a href=\"https://colab.research.google.com/github/J0SAL/Learning/blob/main/Flask/template.ipynb\" target=\"_parent\"><img src=\"https://colab.research.google.com/assets/colab-badge.svg\" alt=\"Open In Colab\"/></a>"
      ]
    },
    {
      "cell_type": "code",
      "source": [
        "!pip install flask_restful"
      ],
      "metadata": {
        "id": "4PZaN6K0C7Am"
      },
      "execution_count": null,
      "outputs": []
    },
    {
      "cell_type": "code",
      "source": [
        "!pip install flask-ngrok"
      ],
      "metadata": {
        "id": "iXTO3n3-D0YO"
      },
      "execution_count": null,
      "outputs": []
    },
    {
      "cell_type": "code",
      "execution_count": null,
      "metadata": {
        "id": "3Lso_DopCup4"
      },
      "outputs": [],
      "source": [
        "from flask import Flask\n",
        "from flask_restful import Api, Resource\n",
        "from flask_ngrok import run_with_ngrok\n",
        "from flask import request\n",
        "\n",
        "app = Flask(__name__)\n",
        "run_with_ngrok(app)\n",
        "api = Api(app)\n",
        "\n",
        "class Class1(Resource):\n",
        "  def get(self):\n",
        "    return {'data': 'This is get'}\n",
        "  def post(self):\n",
        "    return {'data': 'This is post'}\n",
        "\n",
        "class Class2(Resource):\n",
        "  def get(self, name):\n",
        "    return {'data': 'Hello '+name}\n",
        "\n",
        "class Class3(Resource):\n",
        "  def post(self):\n",
        "    data = request.form.get('name')\n",
        "    print(data)\n",
        "    return {'data': 'success'}\n",
        "\n",
        "class Class4(Resource):\n",
        "  def post(self):\n",
        "    file = request.files.get('file')\n",
        "    print(file)\n",
        "    return {'status': 'file uploaded'}\n",
        "\n",
        "api.add_resource(Class1, '/')\n",
        "api.add_resource(Class2, \"/hello/<string:name>\")\n",
        "api.add_resource(Class3, \"/data\")\n",
        "api.add_resource(Class4, \"/file\")\n",
        "\n",
        "\n",
        "if __name__ == '__main__':\n",
        "  app.run()"
      ]
    },
    {
      "cell_type": "code",
      "source": [
        "import requests\n",
        "\n",
        "data = {}\n",
        "\n",
        "BASE = ''\n",
        "\n",
        "d = requests.post(BASE+'/', data = data);\n",
        "print(d.json())"
      ],
      "metadata": {
        "id": "gc-cTca-NJSo"
      },
      "execution_count": null,
      "outputs": []
    }
  ]
}